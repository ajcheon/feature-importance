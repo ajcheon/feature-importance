{
 "cells": [
  {
   "cell_type": "markdown",
   "metadata": {},
   "source": [
    "## Overview\n",
    "\n",
    "In machine learning, we often want to know 1) which features are most predictive of a target, and 2) which features contribute most to a given prediction.  The former is crucial to knowing which features we can afford to ignore when fitting a model, and the latter is important from a business perspective and model interpretability.  Both can be obtained by analyzing the **feature importance** of a dataset.\n",
    "\n",
    "How do we quantify feature importance?  One simple method is to look at how correlated a feature is with the target.  We could also perform PCA to see how influential a feature is in terms of its contribution to the variance of a principal component.  More importantly, we could look at how an altered form of that feature -- either by dropping it altogether or by scrambling its observations -- affects the outcome of a model.  A model that performs worse (in terms of predictive ability) with the altered feature likely means that feature is important to some degree.  In other words, having that particular feature in our dataset contributes significantly to how well a model trained with that feature is able to predict the target.\n",
    "\n",
    "The following sections explore several feature importance methods and how we could use feature importance to better understand the data in front of us."
   ]
  },
  {
   "cell_type": "code",
   "execution_count": 609,
   "metadata": {},
   "outputs": [],
   "source": [
    "%run featimp.py"
   ]
  },
  {
   "cell_type": "code",
   "execution_count": 559,
   "metadata": {},
   "outputs": [],
   "source": [
    "%matplotlib inline\n",
    "pd.options.mode.chained_assignment = None  # default='warn'"
   ]
  },
  {
   "cell_type": "markdown",
   "metadata": {},
   "source": [
    "## Datasets"
   ]
  },
  {
   "cell_type": "markdown",
   "metadata": {},
   "source": [
    "The _Boston house prices_ and _Diabetes_ data sets from `scikit-Learn` provide good examples to work with.  Both are intended for regression models (we could also use classification datasets; however, feature importance is best demonstrated with regression)."
   ]
  },
  {
   "cell_type": "code",
   "execution_count": 561,
   "metadata": {},
   "outputs": [],
   "source": [
    "df_boston = _load_boston()\n",
    "df_diabetes = _load_diabetes()"
   ]
  },
  {
   "cell_type": "code",
   "execution_count": 563,
   "metadata": {},
   "outputs": [
    {
     "data": {
      "text/html": [
       "<div>\n",
       "<style scoped>\n",
       "    .dataframe tbody tr th:only-of-type {\n",
       "        vertical-align: middle;\n",
       "    }\n",
       "\n",
       "    .dataframe tbody tr th {\n",
       "        vertical-align: top;\n",
       "    }\n",
       "\n",
       "    .dataframe thead th {\n",
       "        text-align: right;\n",
       "    }\n",
       "</style>\n",
       "<table border=\"1\" class=\"dataframe\">\n",
       "  <thead>\n",
       "    <tr style=\"text-align: right;\">\n",
       "      <th></th>\n",
       "      <th>CRIM</th>\n",
       "      <th>ZN</th>\n",
       "      <th>INDUS</th>\n",
       "      <th>CHAS</th>\n",
       "      <th>NOX</th>\n",
       "      <th>RM</th>\n",
       "      <th>AGE</th>\n",
       "      <th>DIS</th>\n",
       "      <th>RAD</th>\n",
       "      <th>TAX</th>\n",
       "      <th>PTRATIO</th>\n",
       "      <th>B</th>\n",
       "      <th>LSTAT</th>\n",
       "      <th>target</th>\n",
       "    </tr>\n",
       "  </thead>\n",
       "  <tbody>\n",
       "    <tr>\n",
       "      <td>0</td>\n",
       "      <td>0.00632</td>\n",
       "      <td>18.0</td>\n",
       "      <td>2.31</td>\n",
       "      <td>0.0</td>\n",
       "      <td>0.538</td>\n",
       "      <td>6.575</td>\n",
       "      <td>65.2</td>\n",
       "      <td>4.0900</td>\n",
       "      <td>1.0</td>\n",
       "      <td>296.0</td>\n",
       "      <td>15.3</td>\n",
       "      <td>396.90</td>\n",
       "      <td>4.98</td>\n",
       "      <td>24.0</td>\n",
       "    </tr>\n",
       "    <tr>\n",
       "      <td>1</td>\n",
       "      <td>0.02731</td>\n",
       "      <td>0.0</td>\n",
       "      <td>7.07</td>\n",
       "      <td>0.0</td>\n",
       "      <td>0.469</td>\n",
       "      <td>6.421</td>\n",
       "      <td>78.9</td>\n",
       "      <td>4.9671</td>\n",
       "      <td>2.0</td>\n",
       "      <td>242.0</td>\n",
       "      <td>17.8</td>\n",
       "      <td>396.90</td>\n",
       "      <td>9.14</td>\n",
       "      <td>21.6</td>\n",
       "    </tr>\n",
       "    <tr>\n",
       "      <td>2</td>\n",
       "      <td>0.02729</td>\n",
       "      <td>0.0</td>\n",
       "      <td>7.07</td>\n",
       "      <td>0.0</td>\n",
       "      <td>0.469</td>\n",
       "      <td>7.185</td>\n",
       "      <td>61.1</td>\n",
       "      <td>4.9671</td>\n",
       "      <td>2.0</td>\n",
       "      <td>242.0</td>\n",
       "      <td>17.8</td>\n",
       "      <td>392.83</td>\n",
       "      <td>4.03</td>\n",
       "      <td>34.7</td>\n",
       "    </tr>\n",
       "  </tbody>\n",
       "</table>\n",
       "</div>"
      ],
      "text/plain": [
       "      CRIM    ZN  INDUS  CHAS    NOX     RM   AGE     DIS  RAD    TAX  \\\n",
       "0  0.00632  18.0   2.31   0.0  0.538  6.575  65.2  4.0900  1.0  296.0   \n",
       "1  0.02731   0.0   7.07   0.0  0.469  6.421  78.9  4.9671  2.0  242.0   \n",
       "2  0.02729   0.0   7.07   0.0  0.469  7.185  61.1  4.9671  2.0  242.0   \n",
       "\n",
       "   PTRATIO       B  LSTAT  target  \n",
       "0     15.3  396.90   4.98    24.0  \n",
       "1     17.8  396.90   9.14    21.6  \n",
       "2     17.8  392.83   4.03    34.7  "
      ]
     },
     "execution_count": 563,
     "metadata": {},
     "output_type": "execute_result"
    }
   ],
   "source": [
    "df_boston.head(3)"
   ]
  },
  {
   "cell_type": "markdown",
   "metadata": {},
   "source": [
    "The [Boston](https://scikit-learn.org/stable/datasets/index.html#boston-dataset) dataset contains 13 features; the target is house price (in $1000)."
   ]
  },
  {
   "cell_type": "code",
   "execution_count": 564,
   "metadata": {},
   "outputs": [
    {
     "data": {
      "text/html": [
       "<div>\n",
       "<style scoped>\n",
       "    .dataframe tbody tr th:only-of-type {\n",
       "        vertical-align: middle;\n",
       "    }\n",
       "\n",
       "    .dataframe tbody tr th {\n",
       "        vertical-align: top;\n",
       "    }\n",
       "\n",
       "    .dataframe thead th {\n",
       "        text-align: right;\n",
       "    }\n",
       "</style>\n",
       "<table border=\"1\" class=\"dataframe\">\n",
       "  <thead>\n",
       "    <tr style=\"text-align: right;\">\n",
       "      <th></th>\n",
       "      <th>age</th>\n",
       "      <th>sex</th>\n",
       "      <th>bmi</th>\n",
       "      <th>bp</th>\n",
       "      <th>s1</th>\n",
       "      <th>s2</th>\n",
       "      <th>s3</th>\n",
       "      <th>s4</th>\n",
       "      <th>s5</th>\n",
       "      <th>s6</th>\n",
       "      <th>target</th>\n",
       "    </tr>\n",
       "  </thead>\n",
       "  <tbody>\n",
       "    <tr>\n",
       "      <td>0</td>\n",
       "      <td>0.038076</td>\n",
       "      <td>0.050680</td>\n",
       "      <td>0.061696</td>\n",
       "      <td>0.021872</td>\n",
       "      <td>-0.044223</td>\n",
       "      <td>-0.034821</td>\n",
       "      <td>-0.043401</td>\n",
       "      <td>-0.002592</td>\n",
       "      <td>0.019908</td>\n",
       "      <td>-0.017646</td>\n",
       "      <td>151.0</td>\n",
       "    </tr>\n",
       "    <tr>\n",
       "      <td>1</td>\n",
       "      <td>-0.001882</td>\n",
       "      <td>-0.044642</td>\n",
       "      <td>-0.051474</td>\n",
       "      <td>-0.026328</td>\n",
       "      <td>-0.008449</td>\n",
       "      <td>-0.019163</td>\n",
       "      <td>0.074412</td>\n",
       "      <td>-0.039493</td>\n",
       "      <td>-0.068330</td>\n",
       "      <td>-0.092204</td>\n",
       "      <td>75.0</td>\n",
       "    </tr>\n",
       "    <tr>\n",
       "      <td>2</td>\n",
       "      <td>0.085299</td>\n",
       "      <td>0.050680</td>\n",
       "      <td>0.044451</td>\n",
       "      <td>-0.005671</td>\n",
       "      <td>-0.045599</td>\n",
       "      <td>-0.034194</td>\n",
       "      <td>-0.032356</td>\n",
       "      <td>-0.002592</td>\n",
       "      <td>0.002864</td>\n",
       "      <td>-0.025930</td>\n",
       "      <td>141.0</td>\n",
       "    </tr>\n",
       "  </tbody>\n",
       "</table>\n",
       "</div>"
      ],
      "text/plain": [
       "        age       sex       bmi        bp        s1        s2        s3  \\\n",
       "0  0.038076  0.050680  0.061696  0.021872 -0.044223 -0.034821 -0.043401   \n",
       "1 -0.001882 -0.044642 -0.051474 -0.026328 -0.008449 -0.019163  0.074412   \n",
       "2  0.085299  0.050680  0.044451 -0.005671 -0.045599 -0.034194 -0.032356   \n",
       "\n",
       "         s4        s5        s6  target  \n",
       "0 -0.002592  0.019908 -0.017646   151.0  \n",
       "1 -0.039493 -0.068330 -0.092204    75.0  \n",
       "2 -0.002592  0.002864 -0.025930   141.0  "
      ]
     },
     "execution_count": 564,
     "metadata": {},
     "output_type": "execute_result"
    }
   ],
   "source": [
    "df_diabetes.head(3)"
   ]
  },
  {
   "cell_type": "markdown",
   "metadata": {},
   "source": [
    "The [Diabetes](https://scikit-learn.org/stable/datasets/index.html#diabetes-dataset) dataset contains 10 features; the target is a quantitative measure of disease progression one year after baseline."
   ]
  },
  {
   "cell_type": "markdown",
   "metadata": {},
   "source": [
    "## Measures of feature importance"
   ]
  },
  {
   "cell_type": "markdown",
   "metadata": {},
   "source": [
    "### Spearman's rank correlation coefficient"
   ]
  },
  {
   "cell_type": "markdown",
   "metadata": {},
   "source": [
    "Perhaps the simplest method is to rank each feature's importance using Spearman's rank correlation coefficient.  Note that we don't use Pearson's correlation coefficient because our aim is to quantify the _monotonicity_ of the relationship between a feature and the target is, regardless of how _linear_ the realtionship is.  Spearman's rank correlation coefficient is calculated by ranking the feature and target by their values, then taking a correlation coefficient between the ranks themselves."
   ]
  },
  {
   "cell_type": "markdown",
   "metadata": {},
   "source": [
    "Boston dataset feature importances based on Spearman's rank correlation:"
   ]
  },
  {
   "cell_type": "code",
   "execution_count": 552,
   "metadata": {},
   "outputs": [
    {
     "data": {
      "text/html": [
       "<div>\n",
       "<style scoped>\n",
       "    .dataframe tbody tr th:only-of-type {\n",
       "        vertical-align: middle;\n",
       "    }\n",
       "\n",
       "    .dataframe tbody tr th {\n",
       "        vertical-align: top;\n",
       "    }\n",
       "\n",
       "    .dataframe thead th {\n",
       "        text-align: right;\n",
       "    }\n",
       "</style>\n",
       "<table border=\"1\" class=\"dataframe\">\n",
       "  <thead>\n",
       "    <tr style=\"text-align: right;\">\n",
       "      <th></th>\n",
       "      <th>feature</th>\n",
       "      <th>target</th>\n",
       "    </tr>\n",
       "  </thead>\n",
       "  <tbody>\n",
       "    <tr>\n",
       "      <td>0</td>\n",
       "      <td>LSTAT</td>\n",
       "      <td>0.852914</td>\n",
       "    </tr>\n",
       "    <tr>\n",
       "      <td>1</td>\n",
       "      <td>RM</td>\n",
       "      <td>0.633576</td>\n",
       "    </tr>\n",
       "    <tr>\n",
       "      <td>2</td>\n",
       "      <td>INDUS</td>\n",
       "      <td>0.578255</td>\n",
       "    </tr>\n",
       "    <tr>\n",
       "      <td>3</td>\n",
       "      <td>NOX</td>\n",
       "      <td>0.562609</td>\n",
       "    </tr>\n",
       "    <tr>\n",
       "      <td>4</td>\n",
       "      <td>TAX</td>\n",
       "      <td>0.562411</td>\n",
       "    </tr>\n",
       "    <tr>\n",
       "      <td>5</td>\n",
       "      <td>CRIM</td>\n",
       "      <td>0.558891</td>\n",
       "    </tr>\n",
       "    <tr>\n",
       "      <td>6</td>\n",
       "      <td>PTRATIO</td>\n",
       "      <td>0.555905</td>\n",
       "    </tr>\n",
       "    <tr>\n",
       "      <td>7</td>\n",
       "      <td>AGE</td>\n",
       "      <td>0.547562</td>\n",
       "    </tr>\n",
       "    <tr>\n",
       "      <td>8</td>\n",
       "      <td>DIS</td>\n",
       "      <td>0.445857</td>\n",
       "    </tr>\n",
       "    <tr>\n",
       "      <td>9</td>\n",
       "      <td>ZN</td>\n",
       "      <td>0.438179</td>\n",
       "    </tr>\n",
       "    <tr>\n",
       "      <td>10</td>\n",
       "      <td>RAD</td>\n",
       "      <td>0.346776</td>\n",
       "    </tr>\n",
       "    <tr>\n",
       "      <td>11</td>\n",
       "      <td>B</td>\n",
       "      <td>0.185664</td>\n",
       "    </tr>\n",
       "    <tr>\n",
       "      <td>12</td>\n",
       "      <td>CHAS</td>\n",
       "      <td>0.140612</td>\n",
       "    </tr>\n",
       "  </tbody>\n",
       "</table>\n",
       "</div>"
      ],
      "text/plain": [
       "    feature    target\n",
       "0     LSTAT  0.852914\n",
       "1        RM  0.633576\n",
       "2     INDUS  0.578255\n",
       "3       NOX  0.562609\n",
       "4       TAX  0.562411\n",
       "5      CRIM  0.558891\n",
       "6   PTRATIO  0.555905\n",
       "7       AGE  0.547562\n",
       "8       DIS  0.445857\n",
       "9        ZN  0.438179\n",
       "10      RAD  0.346776\n",
       "11        B  0.185664\n",
       "12     CHAS  0.140612"
      ]
     },
     "execution_count": 552,
     "metadata": {},
     "output_type": "execute_result"
    }
   ],
   "source": [
    "rank_features_spearman(df_boston, 'target')"
   ]
  },
  {
   "cell_type": "markdown",
   "metadata": {},
   "source": [
    "### Principal component analysis (PCA)"
   ]
  },
  {
   "cell_type": "markdown",
   "metadata": {},
   "source": [
    "We can also measure feature importance with principal component analysis (PCA).  Typically used for clustering, PCA can potentially help us discern important features if the first principal component accounts for a sizable portion of the observed variance.  Specifically, the absolute value of the elements in the first component is a proxy for how important the corresponding features are."
   ]
  },
  {
   "cell_type": "markdown",
   "metadata": {},
   "source": [
    "Boston dataset feature importances based on PCA:"
   ]
  },
  {
   "cell_type": "code",
   "execution_count": 586,
   "metadata": {},
   "outputs": [
    {
     "data": {
      "text/html": [
       "<div>\n",
       "<style scoped>\n",
       "    .dataframe tbody tr th:only-of-type {\n",
       "        vertical-align: middle;\n",
       "    }\n",
       "\n",
       "    .dataframe tbody tr th {\n",
       "        vertical-align: top;\n",
       "    }\n",
       "\n",
       "    .dataframe thead th {\n",
       "        text-align: right;\n",
       "    }\n",
       "</style>\n",
       "<table border=\"1\" class=\"dataframe\">\n",
       "  <thead>\n",
       "    <tr style=\"text-align: right;\">\n",
       "      <th></th>\n",
       "      <th>feature</th>\n",
       "      <th>var_explained</th>\n",
       "    </tr>\n",
       "  </thead>\n",
       "  <tbody>\n",
       "    <tr>\n",
       "      <td>0</td>\n",
       "      <td>INDUS</td>\n",
       "      <td>0.346672</td>\n",
       "    </tr>\n",
       "    <tr>\n",
       "      <td>1</td>\n",
       "      <td>NOX</td>\n",
       "      <td>0.342852</td>\n",
       "    </tr>\n",
       "    <tr>\n",
       "      <td>2</td>\n",
       "      <td>TAX</td>\n",
       "      <td>0.338469</td>\n",
       "    </tr>\n",
       "    <tr>\n",
       "      <td>3</td>\n",
       "      <td>DIS</td>\n",
       "      <td>0.321544</td>\n",
       "    </tr>\n",
       "    <tr>\n",
       "      <td>4</td>\n",
       "      <td>RAD</td>\n",
       "      <td>0.319793</td>\n",
       "    </tr>\n",
       "    <tr>\n",
       "      <td>5</td>\n",
       "      <td>AGE</td>\n",
       "      <td>0.313671</td>\n",
       "    </tr>\n",
       "    <tr>\n",
       "      <td>6</td>\n",
       "      <td>LSTAT</td>\n",
       "      <td>0.309760</td>\n",
       "    </tr>\n",
       "    <tr>\n",
       "      <td>7</td>\n",
       "      <td>ZN</td>\n",
       "      <td>0.256315</td>\n",
       "    </tr>\n",
       "    <tr>\n",
       "      <td>8</td>\n",
       "      <td>CRIM</td>\n",
       "      <td>0.250951</td>\n",
       "    </tr>\n",
       "    <tr>\n",
       "      <td>9</td>\n",
       "      <td>PTRATIO</td>\n",
       "      <td>0.204942</td>\n",
       "    </tr>\n",
       "    <tr>\n",
       "      <td>10</td>\n",
       "      <td>B</td>\n",
       "      <td>0.202973</td>\n",
       "    </tr>\n",
       "    <tr>\n",
       "      <td>11</td>\n",
       "      <td>RM</td>\n",
       "      <td>0.189243</td>\n",
       "    </tr>\n",
       "    <tr>\n",
       "      <td>12</td>\n",
       "      <td>CHAS</td>\n",
       "      <td>0.005042</td>\n",
       "    </tr>\n",
       "  </tbody>\n",
       "</table>\n",
       "</div>"
      ],
      "text/plain": [
       "    feature  var_explained\n",
       "0     INDUS       0.346672\n",
       "1       NOX       0.342852\n",
       "2       TAX       0.338469\n",
       "3       DIS       0.321544\n",
       "4       RAD       0.319793\n",
       "5       AGE       0.313671\n",
       "6     LSTAT       0.309760\n",
       "7        ZN       0.256315\n",
       "8      CRIM       0.250951\n",
       "9   PTRATIO       0.204942\n",
       "10        B       0.202973\n",
       "11       RM       0.189243\n",
       "12     CHAS       0.005042"
      ]
     },
     "execution_count": 586,
     "metadata": {},
     "output_type": "execute_result"
    }
   ],
   "source": [
    "rank_features_pca(df_boston, 'target', n_components=1)"
   ]
  },
  {
   "cell_type": "markdown",
   "metadata": {},
   "source": [
    "Clearly, computing feature importances using PCA yields significantly different results than computing with Spearman's rank correlation."
   ]
  },
  {
   "cell_type": "markdown",
   "metadata": {},
   "source": [
    "### Ordinary least squares (OLS)"
   ]
  },
  {
   "cell_type": "markdown",
   "metadata": {},
   "source": [
    "In ordinary least squares (OLS) feature importance, we fit a linear regression model to our data, then simply look at the magnitude of our coefficients.  Sorting the coefficients gives us the feature importance ranking.  Note that features with large _negative_ coefficients can be most important, since we are considering the absolute value of the coefficients."
   ]
  },
  {
   "cell_type": "markdown",
   "metadata": {},
   "source": [
    "Boston dataset feature importances based on OLS:"
   ]
  },
  {
   "cell_type": "code",
   "execution_count": 554,
   "metadata": {},
   "outputs": [
    {
     "data": {
      "text/html": [
       "<div>\n",
       "<style scoped>\n",
       "    .dataframe tbody tr th:only-of-type {\n",
       "        vertical-align: middle;\n",
       "    }\n",
       "\n",
       "    .dataframe tbody tr th {\n",
       "        vertical-align: top;\n",
       "    }\n",
       "\n",
       "    .dataframe thead th {\n",
       "        text-align: right;\n",
       "    }\n",
       "</style>\n",
       "<table border=\"1\" class=\"dataframe\">\n",
       "  <thead>\n",
       "    <tr style=\"text-align: right;\">\n",
       "      <th></th>\n",
       "      <th>feature</th>\n",
       "      <th>coef</th>\n",
       "    </tr>\n",
       "  </thead>\n",
       "  <tbody>\n",
       "    <tr>\n",
       "      <td>0</td>\n",
       "      <td>LSTAT</td>\n",
       "      <td>-3.743627</td>\n",
       "    </tr>\n",
       "    <tr>\n",
       "      <td>1</td>\n",
       "      <td>DIS</td>\n",
       "      <td>-3.104044</td>\n",
       "    </tr>\n",
       "    <tr>\n",
       "      <td>2</td>\n",
       "      <td>RM</td>\n",
       "      <td>2.674230</td>\n",
       "    </tr>\n",
       "    <tr>\n",
       "      <td>3</td>\n",
       "      <td>RAD</td>\n",
       "      <td>2.662218</td>\n",
       "    </tr>\n",
       "    <tr>\n",
       "      <td>4</td>\n",
       "      <td>TAX</td>\n",
       "      <td>-2.076782</td>\n",
       "    </tr>\n",
       "    <tr>\n",
       "      <td>5</td>\n",
       "      <td>PTRATIO</td>\n",
       "      <td>-2.060607</td>\n",
       "    </tr>\n",
       "    <tr>\n",
       "      <td>6</td>\n",
       "      <td>NOX</td>\n",
       "      <td>-2.056718</td>\n",
       "    </tr>\n",
       "    <tr>\n",
       "      <td>7</td>\n",
       "      <td>ZN</td>\n",
       "      <td>1.081569</td>\n",
       "    </tr>\n",
       "    <tr>\n",
       "      <td>8</td>\n",
       "      <td>CRIM</td>\n",
       "      <td>-0.928146</td>\n",
       "    </tr>\n",
       "    <tr>\n",
       "      <td>9</td>\n",
       "      <td>B</td>\n",
       "      <td>0.849268</td>\n",
       "    </tr>\n",
       "    <tr>\n",
       "      <td>10</td>\n",
       "      <td>CHAS</td>\n",
       "      <td>0.681740</td>\n",
       "    </tr>\n",
       "    <tr>\n",
       "      <td>11</td>\n",
       "      <td>INDUS</td>\n",
       "      <td>0.140900</td>\n",
       "    </tr>\n",
       "    <tr>\n",
       "      <td>12</td>\n",
       "      <td>AGE</td>\n",
       "      <td>0.019466</td>\n",
       "    </tr>\n",
       "  </tbody>\n",
       "</table>\n",
       "</div>"
      ],
      "text/plain": [
       "    feature      coef\n",
       "0     LSTAT -3.743627\n",
       "1       DIS -3.104044\n",
       "2        RM  2.674230\n",
       "3       RAD  2.662218\n",
       "4       TAX -2.076782\n",
       "5   PTRATIO -2.060607\n",
       "6       NOX -2.056718\n",
       "7        ZN  1.081569\n",
       "8      CRIM -0.928146\n",
       "9         B  0.849268\n",
       "10     CHAS  0.681740\n",
       "11    INDUS  0.140900\n",
       "12      AGE  0.019466"
      ]
     },
     "execution_count": 554,
     "metadata": {},
     "output_type": "execute_result"
    }
   ],
   "source": [
    "rank_features_ols(df_boston, 'target')"
   ]
  },
  {
   "cell_type": "markdown",
   "metadata": {},
   "source": [
    "### Drop-column"
   ]
  },
  {
   "cell_type": "markdown",
   "metadata": {},
   "source": [
    "The principle behind drop-column importance is to find out how much a particular feature affects model performance if it is removed entirely from the training data.  Intuitively, the worse a model performs after the feature was dropped, the more important that feature is; i.e. the more that feature contributes to the predictive ability of the model.  The procedure is as follows:\n",
    "\n",
    "  1. Fit a model to the training set containing all columns.\n",
    "  2. Record the _baseline metric_ (e.g. MSE, log-loss) using out-of-bag (OOB) samples or a validation set.\n",
    "  3. Drop a feature from the training set.\n",
    "  4. Refit the same model.\n",
    "  5. Record the _drop-column metric_ using OOB samples or a validation set.\n",
    "  6. Compute the difference between the _drop-column metric_ and _baseline metric_.  This is our measure of importance for this particular feature.\n",
    "  7. Repeat (3) - (6) for all features.\n",
    "  \n",
    "One major pitfall of drop-column importance is that columns that are highly correlated with each other tend to appear least important.  This is because dropping a column has little to no effect on model performance if there is another column to \"cover\" for it, i.e. the _baseline metric_ and _drop-column metric_ for related features are similar."
   ]
  },
  {
   "cell_type": "markdown",
   "metadata": {},
   "source": [
    "Boston dataset feature importances based on drop-column importance:"
   ]
  },
  {
   "cell_type": "code",
   "execution_count": 556,
   "metadata": {},
   "outputs": [
    {
     "data": {
      "text/html": [
       "<div>\n",
       "<style scoped>\n",
       "    .dataframe tbody tr th:only-of-type {\n",
       "        vertical-align: middle;\n",
       "    }\n",
       "\n",
       "    .dataframe tbody tr th {\n",
       "        vertical-align: top;\n",
       "    }\n",
       "\n",
       "    .dataframe thead th {\n",
       "        text-align: right;\n",
       "    }\n",
       "</style>\n",
       "<table border=\"1\" class=\"dataframe\">\n",
       "  <thead>\n",
       "    <tr style=\"text-align: right;\">\n",
       "      <th></th>\n",
       "      <th>feature</th>\n",
       "      <th>drop_importance</th>\n",
       "    </tr>\n",
       "  </thead>\n",
       "  <tbody>\n",
       "    <tr>\n",
       "      <td>12</td>\n",
       "      <td>LSTAT</td>\n",
       "      <td>0.081399</td>\n",
       "    </tr>\n",
       "    <tr>\n",
       "      <td>5</td>\n",
       "      <td>RM</td>\n",
       "      <td>0.043901</td>\n",
       "    </tr>\n",
       "    <tr>\n",
       "      <td>4</td>\n",
       "      <td>NOX</td>\n",
       "      <td>0.008519</td>\n",
       "    </tr>\n",
       "    <tr>\n",
       "      <td>7</td>\n",
       "      <td>DIS</td>\n",
       "      <td>0.008078</td>\n",
       "    </tr>\n",
       "    <tr>\n",
       "      <td>10</td>\n",
       "      <td>PTRATIO</td>\n",
       "      <td>0.007111</td>\n",
       "    </tr>\n",
       "    <tr>\n",
       "      <td>0</td>\n",
       "      <td>CRIM</td>\n",
       "      <td>0.002071</td>\n",
       "    </tr>\n",
       "    <tr>\n",
       "      <td>9</td>\n",
       "      <td>TAX</td>\n",
       "      <td>0.001978</td>\n",
       "    </tr>\n",
       "    <tr>\n",
       "      <td>2</td>\n",
       "      <td>INDUS</td>\n",
       "      <td>0.000534</td>\n",
       "    </tr>\n",
       "    <tr>\n",
       "      <td>8</td>\n",
       "      <td>RAD</td>\n",
       "      <td>0.000259</td>\n",
       "    </tr>\n",
       "    <tr>\n",
       "      <td>11</td>\n",
       "      <td>B</td>\n",
       "      <td>0.000172</td>\n",
       "    </tr>\n",
       "    <tr>\n",
       "      <td>3</td>\n",
       "      <td>CHAS</td>\n",
       "      <td>0.000079</td>\n",
       "    </tr>\n",
       "    <tr>\n",
       "      <td>1</td>\n",
       "      <td>ZN</td>\n",
       "      <td>-0.000144</td>\n",
       "    </tr>\n",
       "    <tr>\n",
       "      <td>6</td>\n",
       "      <td>AGE</td>\n",
       "      <td>-0.000776</td>\n",
       "    </tr>\n",
       "  </tbody>\n",
       "</table>\n",
       "</div>"
      ],
      "text/plain": [
       "    feature  drop_importance\n",
       "12    LSTAT         0.081399\n",
       "5        RM         0.043901\n",
       "4       NOX         0.008519\n",
       "7       DIS         0.008078\n",
       "10  PTRATIO         0.007111\n",
       "0      CRIM         0.002071\n",
       "9       TAX         0.001978\n",
       "2     INDUS         0.000534\n",
       "8       RAD         0.000259\n",
       "11        B         0.000172\n",
       "3      CHAS         0.000079\n",
       "1        ZN        -0.000144\n",
       "6       AGE        -0.000776"
      ]
     },
     "execution_count": 556,
     "metadata": {},
     "output_type": "execute_result"
    }
   ],
   "source": [
    "rank_features_drop(df_boston, 'target', 'reg')"
   ]
  },
  {
   "cell_type": "markdown",
   "metadata": {},
   "source": [
    "### Column permutation"
   ]
  },
  {
   "cell_type": "markdown",
   "metadata": {},
   "source": [
    "The principle behind pemutation importance is to find out how much a particular feature affects model performance if it _permuted_, or shuffled, in place.  Intuitively, the worse a model performs after the feature was permuted, the more important that feature is; i.e. the more that feature contributes to the predictive ability of the model.  The procedure is as follows:\n",
    "\n",
    "  1. Fit a model to the training set.\n",
    "  2. Record the _baseline metric_ (e.g. MSE, log-loss) using out-of-bag (OOB) samples or a validation set.\n",
    "  3. Permute a feature from the training set.\n",
    "  4. Record the _permuted-column metric_ using OOB samples or a validation set.\n",
    "  5. Compute the difference between the _permuted-column metric_ and _baseline metric_.  This is our measure of importance for this particular feature.\n",
    "  6. Repeat (3) - (5) for all features.\n",
    "  \n",
    "One key advantage of permutation importance is speed, as we only need to fit a model once as opposed to _p_ times where _p_ is the number of features.  It is postulated that columns that are highly related \"share\" their collective permutation importance; e.g. two columns that are related likely have a similar permutation importance that is half of what it would be if one of the columns were dropped from the training set."
   ]
  },
  {
   "cell_type": "markdown",
   "metadata": {},
   "source": [
    "Boston dataset feature importances based on permutation importance:"
   ]
  },
  {
   "cell_type": "code",
   "execution_count": 610,
   "metadata": {},
   "outputs": [
    {
     "data": {
      "text/html": [
       "<div>\n",
       "<style scoped>\n",
       "    .dataframe tbody tr th:only-of-type {\n",
       "        vertical-align: middle;\n",
       "    }\n",
       "\n",
       "    .dataframe tbody tr th {\n",
       "        vertical-align: top;\n",
       "    }\n",
       "\n",
       "    .dataframe thead th {\n",
       "        text-align: right;\n",
       "    }\n",
       "</style>\n",
       "<table border=\"1\" class=\"dataframe\">\n",
       "  <thead>\n",
       "    <tr style=\"text-align: right;\">\n",
       "      <th></th>\n",
       "      <th>feature</th>\n",
       "      <th>perm_importance</th>\n",
       "    </tr>\n",
       "  </thead>\n",
       "  <tbody>\n",
       "    <tr>\n",
       "      <td>12</td>\n",
       "      <td>LSTAT</td>\n",
       "      <td>0.928985</td>\n",
       "    </tr>\n",
       "    <tr>\n",
       "      <td>5</td>\n",
       "      <td>RM</td>\n",
       "      <td>0.573363</td>\n",
       "    </tr>\n",
       "    <tr>\n",
       "      <td>10</td>\n",
       "      <td>PTRATIO</td>\n",
       "      <td>0.025119</td>\n",
       "    </tr>\n",
       "    <tr>\n",
       "      <td>4</td>\n",
       "      <td>NOX</td>\n",
       "      <td>0.022267</td>\n",
       "    </tr>\n",
       "    <tr>\n",
       "      <td>0</td>\n",
       "      <td>CRIM</td>\n",
       "      <td>0.018087</td>\n",
       "    </tr>\n",
       "    <tr>\n",
       "      <td>6</td>\n",
       "      <td>AGE</td>\n",
       "      <td>0.017928</td>\n",
       "    </tr>\n",
       "    <tr>\n",
       "      <td>7</td>\n",
       "      <td>DIS</td>\n",
       "      <td>0.011563</td>\n",
       "    </tr>\n",
       "    <tr>\n",
       "      <td>9</td>\n",
       "      <td>TAX</td>\n",
       "      <td>0.007282</td>\n",
       "    </tr>\n",
       "    <tr>\n",
       "      <td>11</td>\n",
       "      <td>B</td>\n",
       "      <td>0.001643</td>\n",
       "    </tr>\n",
       "    <tr>\n",
       "      <td>2</td>\n",
       "      <td>INDUS</td>\n",
       "      <td>0.000719</td>\n",
       "    </tr>\n",
       "    <tr>\n",
       "      <td>1</td>\n",
       "      <td>ZN</td>\n",
       "      <td>0.000291</td>\n",
       "    </tr>\n",
       "    <tr>\n",
       "      <td>8</td>\n",
       "      <td>RAD</td>\n",
       "      <td>0.000042</td>\n",
       "    </tr>\n",
       "    <tr>\n",
       "      <td>3</td>\n",
       "      <td>CHAS</td>\n",
       "      <td>-0.000205</td>\n",
       "    </tr>\n",
       "  </tbody>\n",
       "</table>\n",
       "</div>"
      ],
      "text/plain": [
       "    feature  perm_importance\n",
       "12    LSTAT         0.928985\n",
       "5        RM         0.573363\n",
       "10  PTRATIO         0.025119\n",
       "4       NOX         0.022267\n",
       "0      CRIM         0.018087\n",
       "6       AGE         0.017928\n",
       "7       DIS         0.011563\n",
       "9       TAX         0.007282\n",
       "11        B         0.001643\n",
       "2     INDUS         0.000719\n",
       "1        ZN         0.000291\n",
       "8       RAD         0.000042\n",
       "3      CHAS        -0.000205"
      ]
     },
     "execution_count": 610,
     "metadata": {},
     "output_type": "execute_result"
    }
   ],
   "source": [
    "rank_features_perm(df_boston, 'target', 'reg')"
   ]
  },
  {
   "cell_type": "markdown",
   "metadata": {},
   "source": [
    "## Comparing importance measures\n",
    "\n",
    "Let's compare how \"good\" these measures of feature importances are.  We gather ranked feature importances using the methods described above, and plot validation metrics of a model fitted on the _k_ most important features.  Note that each feature importance method will produce a different ranking of features; for instance, the three most important features computed with _OLS_ might not be the same as those computing with _drop-column_.  Feature importance methods that yield rankings in such a way that fitting a model on the top most important features already results in a relatively high metric can be considered \"better\", or more robust, than others.\n",
    "\n",
    "Note also that features fitted on different models will result in different validation metrics.  Here, we plot validation r2 score against the number of chosen features in the Boston dataset fit to a RandomForest, XGBoost, and OLS model."
   ]
  },
  {
   "cell_type": "code",
   "execution_count": null,
   "metadata": {},
   "outputs": [],
   "source": [
    "# RandomForest\n",
    "rfr = RandomForestRegressor(n_estimators=50, n_jobs=-1,\n",
    "                            min_samples_leaf=10, random_state=3)\n",
    "rfr_scores = get_importance_matrix(df_boston, 'target', rfr, 'r2', 'reg')\n",
    "rfr_scores['model'] = 'RF'\n",
    "rfr_scores.index = [i for i in range(len(rfr_scores))]\n",
    "\n",
    "# XGBoost\n",
    "xgbr = XGBRegressor(n_estimators=100, max_depth=2, n_jobs=-1,\n",
    "                    random_state=3, objective ='reg:squarederror')\n",
    "xgbr_scores = get_importance_matrix(df_boston, 'target', xgbr, 'r2', 'reg')\n",
    "xgbr_scores['model'] = 'XGB'\n",
    "xgbr_scores.index = [i for i in range(len(xgbr_scores))]\n",
    "\n",
    "# OLS\n",
    "X = df_boston.drop('target', axis=1)\n",
    "y = df_boston['target']\n",
    "ols = sm.OLS(y, X)\n",
    "ols_scores = get_importance_matrix(df_boston, 'target', ols, 'r2', 'reg')\n",
    "ols_scores.index = [i for i in range(len(ols_scores))]\n",
    "ols_scores['model'] = 'OLS'"
   ]
  },
  {
   "cell_type": "code",
   "execution_count": 591,
   "metadata": {},
   "outputs": [
    {
     "data": {
      "image/png": "[encoded data removed]",
      "text/plain": [
       "<Figure size 640x480 with 3 Axes>"
      ]
     },
     "metadata": {
      "needs_background": "light"
     },
     "output_type": "display_data"
    },
    {
     "data": {
      "text/plain": [
       "<ggplot: (7564845418)>"
      ]
     },
     "execution_count": 591,
     "metadata": {},
     "output_type": "execute_result"
    }
   ],
   "source": [
    "all_scores = pd.concat([rfr_scores, xgbr_scores, ols_scores])\n",
    "\n",
    "(pn.ggplot(all_scores,\n",
    "           pn.aes('num_features', 'mean_val_r2', color='importance'))\n",
    " + pn.geom_line(alpha=0.5, size=0.8)\n",
    " + pn.geom_point(alpha=0.5, size=1.2)\n",
    " + pn.facet_wrap('~ model', nrow=1, ncol=3)\n",
    " + pn.labs(x='Number of features', y='5-fold cross-val r2')\n",
    " + pn.theme_minimal()\n",
    " + pn.theme(panel_grid = pn.element_blank())\n",
    ")"
   ]
  },
  {
   "cell_type": "markdown",
   "metadata": {},
   "source": [
    "When fitting OLS, RandomForest, and XGBoost models on the top _k_ features determined by each importance measure, it is clear that PCA is the least accurate measure of importance.  Taking the average 5-fold cross validation score, we see that using even the top five or six features (as determined by PCA) to fit our models results in r2 scores that are less than half of those using other measures of importance.  Other measures seem to perform similarly (and well) for RandomForest and XGBoost; the OLS model produces the most variation in r2 scores across the different importance measures as _k_ increases.  This plot also shows us that in general, XGBoost seems to be the best model -- of course, not considering hyperparameter tuning -- out of the three in terms of of average r2 score."
   ]
  },
  {
   "cell_type": "markdown",
   "metadata": {},
   "source": [
    "## Automatic feature selection"
   ]
  },
  {
   "cell_type": "markdown",
   "metadata": {},
   "source": [
    "As machine learning practitioners, we often wish to use the minimum number of features possible while still achieving the highest (or high enough) metric possible.  One way to do this is to rank features by importance (using some kind of feature importance method) and start dropping, one by one, the least important feature until our validation metric starts to drop below the baseline metric.  We are left with the minimum set of features needed to still perform well on validation.  The procedure is as follows:\n",
    "\n",
    "1. Fit a model to the training data and get a baseline metric.\n",
    "2. Get feature importances.\n",
    "3. Drop the least important feature.\n",
    "4. Refit the model to the remaining features and record validation metric.\n",
    "5. If the validation metric is worse than the baseline metric, stop (and include the dropped column in the columns to keep).\n",
    "6. Repeat (2) - (5) until we have dropped as many features as possible.\n",
    "7. Return kept features.\n",
    "\n",
    "Note that we must recompute feature importances each iteration since there might be codependencies between features."
   ]
  },
  {
   "cell_type": "code",
   "execution_count": 491,
   "metadata": {},
   "outputs": [],
   "source": [
    "rf = RandomForestRegressor(n_estimators=100, n_jobs=-1)\n",
    "important_feats = auto_feature_select(df_boston, 'target', rf, mean_squared_error)"
   ]
  },
  {
   "cell_type": "code",
   "execution_count": null,
   "metadata": {},
   "outputs": [],
   "source": [
    "from collections import Counter\n",
    "\n",
    "kept_features = []\n",
    "num_iter = 30\n",
    "for i in range(30):\n",
    "    print(i)\n",
    "    rf = RandomForestRegressor(n_estimators=100, n_jobs=-1)\n",
    "    important_feats = auto_feature_select(df_boston, 'target', rf,\n",
    "                                          mean_squared_error)\n",
    "    for feat in important_feats:\n",
    "        kept_features.append(feat)"
   ]
  },
  {
   "cell_type": "code",
   "execution_count": 541,
   "metadata": {},
   "outputs": [],
   "source": [
    "counts = Counter(kept_features).most_common()\n",
    "features = [x[0] for x in counts]\n",
    "counts = np.array([x[1] for x in counts]) / num_iter\n",
    "kept_feat_counts = pd.DataFrame({'feature': features, 'count': counts}) \\\n",
    "                     .sort_values('count')\n",
    "\n",
    "sorted_feats = list(kept_feat_counts['feature'])\n",
    "kept_feat_counts['feature'] = pd.Categorical(sorted_feats, ordered=True,\n",
    "                                             categories=sorted_feats)"
   ]
  },
  {
   "cell_type": "markdown",
   "metadata": {},
   "source": [
    "Here we run automatic feature selection on the Boston dataset 30 times and plot the percentage of times each feature was kept.  The features `LSTAT`, `PTRATIO`, `RM`, and `NOX` were kept all 30 trials, whereas `CHAS` was only kept approximately 62% of the time.  Just by inspection, this indicates that perhaps a quarter of the features in the Boston dataset can be discarded if we are looking to achieve a decent validation metric."
   ]
  },
  {
   "cell_type": "code",
   "execution_count": 603,
   "metadata": {},
   "outputs": [
    {
     "data": {
      "image/png": "[encoded data removed]",
      "text/plain": [
       "<Figure size 640x480 with 1 Axes>"
      ]
     },
     "metadata": {
      "needs_background": "light"
     },
     "output_type": "display_data"
    },
    {
     "data": {
      "text/plain": [
       "<ggplot: (7560150767)>"
      ]
     },
     "execution_count": 603,
     "metadata": {},
     "output_type": "execute_result"
    }
   ],
   "source": [
    "(pn.ggplot(kept_feat_counts, pn.aes('feature', 'count'))\n",
    " + pn.geom_col(alpha=0.7)\n",
    " + pn.labs(x='Feature', y='Feature kept (%)')\n",
    " + pn.theme_minimal()\n",
    " + pn.theme(panel_grid = pn.element_blank())\n",
    " + pn.coord_flip()\n",
    ")"
   ]
  },
  {
   "cell_type": "markdown",
   "metadata": {},
   "source": [
    "## Visualizing feature importance"
   ]
  },
  {
   "cell_type": "markdown",
   "metadata": {},
   "source": [
    "Having clear, compelling visualizations of feature importance is a huge benefit to data science practitioners of all levels.  Perhaps most logical is the horizontal barplot, sorted by importance.  We can utilize `ggplot` to make visualizations snappy and proportional for easy skimming.\n",
    "\n",
    "Below is an example for permutation importance computed on the Diabetes dataset."
   ]
  },
  {
   "cell_type": "code",
   "execution_count": 671,
   "metadata": {},
   "outputs": [],
   "source": [
    "ranks = rank_features_perm(df_diabetes, 'target', 'reg').sort_values('perm_importance')\n",
    "ranks['rel_frac'] = round(ranks['perm_importance'] / ranks.iloc[-1, 1] * 100, 1).astype(str) + '%'\n",
    "sorted_feats = list(ranks['feature'])\n",
    "ranks['feature'] = pd.Categorical(sorted_feats, ordered=True, categories=sorted_feats)\n",
    "max_imp = ranks.iloc[-1, 1]"
   ]
  },
  {
   "cell_type": "code",
   "execution_count": 717,
   "metadata": {},
   "outputs": [
    {
     "data": {
      "image/png": "[encoded data removed]",
      "text/plain": [
       "<Figure size 640x480 with 1 Axes>"
      ]
     },
     "metadata": {
      "needs_background": "light"
     },
     "output_type": "display_data"
    },
    {
     "data": {
      "text/plain": [
       "<ggplot: (7564791942)>"
      ]
     },
     "execution_count": 717,
     "metadata": {},
     "output_type": "execute_result"
    }
   ],
   "source": [
    "(pn.ggplot(ranks, pn.aes('feature', 'perm_importance'))\n",
    " + pn.geom_col(alpha=0.8, fill='dodgerblue', width = 0.6)\n",
    " + pn.geom_text(pn.aes(label='rel_frac', y=max_imp+0.03))\n",
    " + pn.expand_limits(y=0.28)\n",
    " + pn.labs(y='Relative importance', x=None)\n",
    " + pn.theme_minimal()\n",
    " + pn.theme(panel_grid=pn.element_blank(),\n",
    "            axis_text_x=pn.element_blank())\n",
    " + pn.coord_flip()\n",
    ")"
   ]
  }
 ],
 "metadata": {
  "kernelspec": {
   "display_name": "Python 3",
   "language": "python",
   "name": "python3"
  },
  "language_info": {
   "codemirror_mode": {
    "name": "ipython",
    "version": 3
   },
   "file_extension": ".py",
   "mimetype": "text/x-python",
   "name": "python",
   "nbconvert_exporter": "python",
   "pygments_lexer": "ipython3",
   "version": "3.7.3"
  }
 },
 "nbformat": 4,
 "nbformat_minor": 4
}
